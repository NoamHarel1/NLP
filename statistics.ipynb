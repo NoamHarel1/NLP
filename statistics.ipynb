{
 "cells": [
  {
   "cell_type": "code",
   "execution_count": null,
   "id": "initial_id",
   "metadata": {
    "collapsed": true
   },
   "outputs": [],
   "source": [
    "import pandas as pd\n",
    "from collections import Counter\n",
    "import time"
   ]
  },
  {
   "metadata": {},
   "cell_type": "code",
   "outputs": [],
   "execution_count": null,
   "source": [
    "def calculate_time(func):\n",
    "    def wrapper(*args, **kwargs):\n",
    "        start = time.time()\n",
    "        result = func(*args, **kwargs)\n",
    "        end = time.time()\n",
    "        print(f'Time taken: {end - start:.2f} seconds')\n",
    "        return result\n",
    "\n",
    "    return wrapper\n"
   ],
   "id": "47c45fa4121647b"
  },
  {
   "metadata": {},
   "cell_type": "code",
   "outputs": [],
   "execution_count": null,
   "source": [
    "@calculate_time\n",
    "def print_basic_statistics(csv_file_path):\n",
    "    df = pd.read_csv(csv_file_path, encoding='latin-1')\n",
    "    df.columns = ['v1', 'v2', 'v3', 'v4', 'v5']\n",
    "\n",
    "    total_messages = df.shape[0]\n",
    "\n",
    "    spam_count = df[df['v1'] == 'spam'].shape[0]\n",
    "    ham_count = df[df['v1'] == 'ham'].shape[0]\n",
    "\n",
    "    df['word_count'] = df['v2'].apply(lambda x: len(x.split()))\n",
    "    avg_words_per_message = df['word_count'].mean()\n",
    "\n",
    "    all_words = ' '.join(df['v2']).split()\n",
    "    most_common_words = Counter(all_words).most_common(5)\n",
    "\n",
    "    word_counts = Counter(all_words)\n",
    "    words_once = sum(1 for count in word_counts.values() if count == 1)\n",
    "\n",
    "    print(f'Total number of SMS messages: {total_messages}')\n",
    "    print(f'Number of spam messages: {spam_count}')\n",
    "    print(f'Number of ham messages: {ham_count}')\n",
    "    print(f'Average number of words per message: {avg_words_per_message:.2f}')\n",
    "    print('5 most frequent words:', most_common_words)\n",
    "    print(f'Number of words that only appear once: {words_once}')\n"
   ],
   "id": "745c6378e26dba83"
  },
  {
   "metadata": {},
   "cell_type": "code",
   "outputs": [],
   "execution_count": null,
   "source": "print_basic_statistics('spam.csv')",
   "id": "6a6e0d9a1b337113"
  }
 ],
 "metadata": {
  "kernelspec": {
   "display_name": "Python 3",
   "language": "python",
   "name": "python3"
  },
  "language_info": {
   "codemirror_mode": {
    "name": "ipython",
    "version": 2
   },
   "file_extension": ".py",
   "mimetype": "text/x-python",
   "name": "python",
   "nbconvert_exporter": "python",
   "pygments_lexer": "ipython2",
   "version": "2.7.6"
  }
 },
 "nbformat": 4,
 "nbformat_minor": 5
}
